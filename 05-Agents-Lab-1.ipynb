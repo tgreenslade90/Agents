{
 "cells": [
  {
   "cell_type": "markdown",
   "metadata": {},
   "source": [
    "# Agents: Lab 1"
   ]
  },
  {
   "cell_type": "code",
   "execution_count": 6,
   "metadata": {},
   "outputs": [
    {
     "data": {
      "text/html": [
       "<link href='http://fonts.googleapis.com/css?family=Open+Sans:100,300,400,500,700,800,900,100italic,300italic,400italic,500italic,700italic,800italic,900italic' rel='stylesheet' type='text/css'>\n",
       "<link href='http://fonts.googleapis.com/css?family=Arvo:400,700,400italic' rel='stylesheet' type='text/css'>\n",
       "<link href='http://fonts.googleapis.com/css?family=PT+Mono' rel='stylesheet' type='text/css'>\n",
       "<link href='http://fonts.googleapis.com/css?family=Shadows+Into+Light' rel='stylesheet' type='text/css'>\n",
       "<link href='http://fonts.googleapis.com/css?family=Nixie+One' rel='stylesheet' type='text/css'>\n",
       "\n",
       "<style>.container { width:98% !important; }</style>\n",
       "\n",
       "<style>\n",
       "\n",
       "\n",
       "@font-face {\n",
       "    font-family: \"Computer Modern\";\n",
       "    src: url('http://mirrors.ctan.org/fonts/cm-unicode/fonts/otf/cmunss.otf');\n",
       "}\n",
       "\n",
       "#notebook_panel { /* main background */\n",
       "    background: rgb(245,245,245);\n",
       "}\n",
       "\n",
       "#notebook li { /* More space between bullet points */\n",
       "margin-top:0.8em;\n",
       "}\n",
       "\n",
       "/* draw border around running cells */\n",
       "div.cell.border-box-sizing.code_cell.running { \n",
       "    border: 1px solid #111;\n",
       "}\n",
       "\n",
       "/* Put a solid color box around each cell and its output, visually linking them*/\n",
       "div.cell.code_cell {\n",
       "    background-color: rgb(256,256,256); \n",
       "    border-radius: 0px; \n",
       "    padding: 0.5em;\n",
       "    margin-left:1em;\n",
       "    margin-top: 1em;\n",
       "}\n",
       "\n",
       "div.text_cell_render{\n",
       "    font-family: 'Open Sans' sans-serif;\n",
       "    line-height: 140%;\n",
       "    font-size: 125%;\n",
       "    font-weight: 400;\n",
       "    margin-left:auto;\n",
       "    margin-right:auto;\n",
       "}\n",
       "\n",
       "\n",
       "/* Formatting for header cells */\n",
       ".text_cell_render h1 {\n",
       "    font-family: 'Arvo', serif;\n",
       "    font-style:regular;\n",
       "    font-weight: 400;    \n",
       "    font-size: 45pt;\n",
       "    line-height: 100%;\n",
       "    color: rgb(0,51,102);\n",
       "    margin-bottom: 0.5em;\n",
       "    margin-top: 0.5em;\n",
       "    display: block;\n",
       "}\t\n",
       ".text_cell_render h2 {\n",
       "    font-family: 'Arvo', serif;\n",
       "    font-weight: 400;\n",
       "    font-size: 30pt;\n",
       "    line-height: 100%;\n",
       "    color: rgb(0,51,102);\n",
       "    margin-bottom: 0.1em;\n",
       "    margin-top: 0.3em;\n",
       "    display: block;\n",
       "}\t\n",
       "\n",
       ".text_cell_render h3 {\n",
       "    font-family: 'Arvo', serif;\n",
       "    margin-top:16px;\n",
       "\tfont-size: 22pt;\n",
       "    font-weight: 600;\n",
       "    margin-bottom: 3px;\n",
       "    font-style: regular;\n",
       "    color: rgb(102,102,0);\n",
       "}\n",
       "\n",
       ".text_cell_render h4 {    /*Use this for captions*/\n",
       "    font-family: 'Arvo', serif;\n",
       "    font-size: 14pt;\n",
       "    text-align: center;\n",
       "    margin-top: 0em;\n",
       "    margin-bottom: 2em;\n",
       "    font-style: regular;\n",
       "}\n",
       "\n",
       ".text_cell_render h5 {  /*Use this for small titles*/\n",
       "    font-family: 'Arvo', sans-serif;\n",
       "    font-weight: 400;\n",
       "    font-size: 16pt;\n",
       "    color: rgb(163,0,0);\n",
       "    font-style: italic;\n",
       "    margin-bottom: .1em;\n",
       "    margin-top: 0.8em;\n",
       "    display: block;\n",
       "}\n",
       "\n",
       ".text_cell_render h6 { /*use this for copyright note*/\n",
       "    font-family: 'PT Mono', sans-serif;\n",
       "    font-weight: 300;\n",
       "    font-size: 9pt;\n",
       "    line-height: 100%;\n",
       "    color: grey;\n",
       "    margin-bottom: 1px;\n",
       "    margin-top: 1px;\n",
       "}\n",
       "\n",
       ".CodeMirror{\n",
       "        font-family: \"PT Mono\";\n",
       "        font-size: 90%;\n",
       "}\n",
       "\n",
       "</style>\n",
       "<script>\n",
       "    MathJax.Hub.Config({\n",
       "                        TeX: {\n",
       "                           extensions: [\"AMSmath.js\"],\n",
       "                           equationNumbers: { autoNumber: \"AMS\", useLabelIds: true}\n",
       "                           },\n",
       "                tex2jax: {\n",
       "                    inlineMath: [ ['$','$'], [\"\\\\(\",\"\\\\)\"] ],\n",
       "                    displayMath: [ ['$$','$$'], [\"\\\\[\",\"\\\\]\"] ]\n",
       "                },\n",
       "                displayAlign: 'center', // Change this to 'center' to center equations.\n",
       "                \"HTML-CSS\": {\n",
       "                    styles: {'.MathJax_Display': {\"margin\": 4}}\n",
       "                }\n",
       "        });\n",
       "</script>\n"
      ],
      "text/plain": [
       "<IPython.core.display.HTML object>"
      ]
     },
     "execution_count": 6,
     "metadata": {},
     "output_type": "execute_result"
    }
   ],
   "source": [
    "from IPython.core.display import HTML\n",
    "css_file = 'https://raw.githubusercontent.com/ngcm/training-public/master/ipython_notebook_styles/ngcmstyle.css'\n",
    "HTML(url=css_file)"
   ]
  },
  {
   "cell_type": "markdown",
   "metadata": {},
   "source": [
    "## Conway's Game of Life"
   ]
  },
  {
   "cell_type": "markdown",
   "metadata": {},
   "source": [
    "A simple agent model is [Conway's Game of Life](https://en.wikipedia.org/wiki/Conway%27s_Game_of_Life), which is an example of [Cellular automota](https://en.wikipedia.org/wiki/Cellular_automaton). A two-dimensional square grid of cells are either \"dead\" or \"alive\". At each iteration, each cell checks its neighbours (including diagonals: each cell has 8 neighbours).\n",
    "\n",
    "* Any live cell with fewer than two live neighbours dies (\"under-population\")\n",
    "* Any live cell with two or three neighbours lives (\"survival\")\n",
    "* Any live cell with four or more neighbours dies (\"over-population\")\n",
    "* Any dead cell with *exactly* three neigbours lives (\"reproduction\")\n",
    "\n",
    "At the boundaries of the grid periodic boundary conditions are imposed."
   ]
  },
  {
   "cell_type": "markdown",
   "metadata": {},
   "source": [
    "Write a function that takes a `numpy` array representing the grid. Test it on some of the [standard example patterns](https://en.wikipedia.org/wiki/Conway%27s_Game_of_Life#Examples_of_patterns). The `matplotlib` `imshow` function, and the [matplotlib `FuncAnimation`](http://matplotlib.org/examples/animation/dynamic_image.html) function may help; if running in the notebook, the [instructions on installing and using ffmpeg and html5](https://github.com/numerical-mooc/numerical-mooc/blob/master/lessons/02_spacetime/02_03_1DDiffusion.ipynb) may also be useful."
   ]
  },
  {
   "cell_type": "code",
   "execution_count": 7,
   "metadata": {
    "collapsed": true
   },
   "outputs": [],
   "source": [
    "%matplotlib inline\n",
    "import numpy\n",
    "from matplotlib import pyplot, animation\n",
    "\n",
    "from matplotlib import rcParams\n",
    "rcParams['font.family'] = 'serif'\n",
    "rcParams['font.size'] = 16\n",
    "rcParams['figure.figsize'] = (12,6)\n",
    "\n",
    "from __future__ import division"
   ]
  },
  {
   "cell_type": "code",
   "execution_count": 96,
   "metadata": {
    "collapsed": true
   },
   "outputs": [],
   "source": [
    "import numpy as np\n",
    "import matplotlib.pyplot as plt\n",
    "\n",
    "def conway_iteration(grid):\n",
    "    \"\"\"\n",
    "    Take one iteration of Conway's game of life.\n",
    "    \n",
    "    Parameters\n",
    "    ----------\n",
    "    \n",
    "    grid : array\n",
    "        (N+2) x (N+2) numpy array representing the grid (1: live, 0: dead)\n",
    "    \n",
    "    \"\"\"\n",
    "    \n",
    "    neighbours = np.zeros_like(grid)\n",
    "    \n",
    "    neighbours[1:-2,1:-2] = neighbours[1:-2,1:-2] + grid[0:-3,0:-3] + grid[0:-3,1:-2] + grid[0:-3,2:-1] + grid[1:-2,0:-3] + grid[1:-2,2:-1] + grid[2:-1,0:-3] + grid[2:-1,1:-2] + grid[2:-1,2:-1]\n",
    "    #neighbours[] = neighbours[] + \n",
    "    # FFS, need to add specific lines for not just boundaries, but also for -2 column and row (due to range notation being non-inclusive and not liking ':0').\n",
    "    \n",
    "    \n",
    "    \n",
    "    \"\"\"\n",
    "    \n",
    "    for i in range(N):\n",
    "        neighbours[i,]\n",
    "        grid_copy[i,1:-1] = grid[i,0:-2] + grid[i,2:]\n",
    "        grid_copy[i,0] = grid[i,-1] + grid[i,1]\n",
    "        grid_copy[i,-1] = grid[i,-2] + grid[i,0]\n",
    "    \n",
    "    \"\"\"\n",
    "    \n",
    "    \n",
    "    return neighbours"
   ]
  },
  {
   "cell_type": "code",
   "execution_count": 97,
   "metadata": {},
   "outputs": [
    {
     "data": {
      "text/plain": [
       "array([[0, 0, 0, 0, 0, 0, 0, 0],\n",
       "       [0, 0, 1, 2, 2, 1, 0, 0],\n",
       "       [0, 1, 2, 2, 2, 2, 0, 0],\n",
       "       [0, 1, 2, 4, 5, 2, 0, 0],\n",
       "       [0, 1, 2, 2, 4, 2, 0, 0],\n",
       "       [0, 0, 1, 2, 2, 2, 0, 0],\n",
       "       [0, 0, 0, 0, 0, 0, 0, 0],\n",
       "       [0, 0, 0, 0, 0, 0, 0, 0]])"
      ]
     },
     "execution_count": 97,
     "metadata": {},
     "output_type": "execute_result"
    }
   ],
   "source": [
    "grid_loaf = numpy.array([[0,0,0,0,0,0,0,0],\n",
    "                         [0,0,0,0,0,0,0,0],\n",
    "                         [0,0,0,1,1,0,0,0],\n",
    "                         [0,0,1,0,0,1,0,0],\n",
    "                         [0,0,0,1,0,1,0,0],\n",
    "                         [0,0,0,0,1,0,0,0],\n",
    "                         [0,0,0,0,0,0,0,0],\n",
    "                         [0,0,0,0,0,0,0,0]])\n",
    "\n",
    "conway_iteration(grid_loaf)"
   ]
  },
  {
   "cell_type": "code",
   "execution_count": 71,
   "metadata": {},
   "outputs": [
    {
     "data": {
      "image/png": "[encoded data removed]",
      "text/plain": [
       "<matplotlib.figure.Figure at 0x1103068d0>"
      ]
     },
     "metadata": {},
     "output_type": "display_data"
    }
   ],
   "source": [
    "# Try the loaf - this is static\n",
    "\n",
    "grid_loaf = numpy.array([[0,0,0,0,0,0,0,0],\n",
    "                         [0,0,0,0,0,0,0,0],\n",
    "                         [0,0,0,1,1,0,0,0],\n",
    "                         [0,0,1,0,0,1,0,0],\n",
    "                         [0,0,0,1,0,1,0,0],\n",
    "                         [0,0,0,0,1,0,0,0],\n",
    "                         [0,0,0,0,0,0,0,0],\n",
    "                         [0,0,0,0,0,0,0,0]])\n",
    "\n",
    "fig = pyplot.figure()\n",
    "im = pyplot.imshow(grid_loaf[1:-1,1:-1], cmap=pyplot.get_cmap('gray'))\n",
    "\n",
    "def init():\n",
    "    im.set_array(grid_loaf[1:-1,1:-1])\n",
    "    return im,\n",
    "\n",
    "def animate(i):\n",
    "    conway_iteration(grid_loaf)\n",
    "    im.set_array(grid_loaf[1:-1,1:-1])\n",
    "    return im,\n",
    "\n",
    "# This will only work if you have ffmpeg installed\n",
    "\n",
    "anim = animation.FuncAnimation(fig, animate, init_func=init, interval=50, frames=10, blit=True)"
   ]
  },
  {
   "cell_type": "code",
   "execution_count": 72,
   "metadata": {},
   "outputs": [
    {
     "data": {
      "text/html": [
       "<video width=\"864\" height=\"432\" controls autoplay loop>\n",
       "  <source type=\"video/mp4\" src=\"data:video/mp4;base64,AAAAHGZ0eXBNNFYgAAACAGlzb21pc28yYXZjMQAAAAhmcmVlAAAK+W1kYXQAAAKuBgX//6rcRem9\n",
       "5tlIt5Ys2CDZI+7veDI2NCAtIGNvcmUgMTQ4IHIyNzk1IGFhYTlhYTggLSBILjI2NC9NUEVHLTQg\n",
       "QVZDIGNvZGVjIC0gQ29weWxlZnQgMjAwMy0yMDE3IC0gaHR0cDovL3d3dy52aWRlb2xhbi5vcmcv\n",
       "eDI2NC5odG1sIC0gb3B0aW9uczogY2FiYWM9MSByZWY9MyBkZWJsb2NrPTE6MDowIGFuYWx5c2U9\n",
       "MHgzOjB4MTEzIG1lPWhleCBzdWJtZT03IHBzeT0xIHBzeV9yZD0xLjAwOjAuMDAgbWl4ZWRfcmVm\n",
       "PTEgbWVfcmFuZ2U9MTYgY2hyb21hX21lPTEgdHJlbGxpcz0xIDh4OGRjdD0xIGNxbT0wIGRlYWR6\n",
       "b25lPTIxLDExIGZhc3RfcHNraXA9MSBjaHJvbWFfcXBfb2Zmc2V0PS0yIHRocmVhZHM9NiBsb29r\n",
       "YWhlYWRfdGhyZWFkcz0xIHNsaWNlZF90aHJlYWRzPTAgbnI9MCBkZWNpbWF0ZT0xIGludGVybGFj\n",
       "ZWQ9MCBibHVyYXlfY29tcGF0PTAgY29uc3RyYWluZWRfaW50cmE9MCBiZnJhbWVzPTMgYl9weXJh\n",
       "bWlkPTIgYl9hZGFwdD0xIGJfYmlhcz0wIGRpcmVjdD0xIHdlaWdodGI9MSBvcGVuX2dvcD0wIHdl\n",
       "aWdodHA9MiBrZXlpbnQ9MjUwIGtleWludF9taW49MjAgc2NlbmVjdXQ9NDAgaW50cmFfcmVmcmVz\n",
       "aD0wIHJjX2xvb2thaGVhZD00MCByYz1jcmYgbWJ0cmVlPTEgY3JmPTIzLjAgcWNvbXA9MC42MCBx\n",
       "cG1pbj0wIHFwbWF4PTY5IHFwc3RlcD00IGlwX3JhdGlvPTEuNDAgYXE9MToxLjAwAIAAAAabZYiE\n",
       "ADv//vdOvwKbRZdqA5JXCvbKpCZZuVJrAfKmAAADAAADAAADAAAR+XCwLsohLmSQAAADABMwAuM/\n",
       "7tEEO/5gBcyDrYJUxp6mN8FVuur/ekjrtobiM2X0OBeDOo/14B8uaTCBEjbTWaP7FmE8jKEhPmFo\n",
       "vL1sIxZi1Hcgmq1PjzPn3QDTcLzUUGEVfX9aWScqkdUBLGry9JXNsSvdpHMPtR8PphNJQ2vAm15M\n",
       "RCjwH4goT7EkJyZnjs5C8iKR3wokhaW7EIxAEfbwAA/ug2Y57y8wSFaR9kK3LbCrvujGRJ9o333+\n",
       "Mg28cMOUZl1Zg5DrbDCEX5/zwFQmQCLM8p3GvMGw2pmuJvVUEXLKHos+nuLaoeBWD0CNYZMwHxfM\n",
       "FBbzevRaC8YX69X59KtAcXmn2BTtDuhdzLhG8d40YhvjrCTzI3KGWuXKuzItgm9cACXkebXvM+B1\n",
       "LwJYo/g5gavNOrvK2+b0Ld3/S8Bsfpgi3vrRrIER6atFlegS77HOZ4MPDfAAAAMANw3OI3/uBtCb\n",
       "qX0RMQKE+x0DfDR9ki7bhiyYoq+0Zkr3Sb9HC5hK2RCHrxD2ouHOb7ihJmPy6fDxOadnvC+1SiLj\n",
       "+sWcq5D/edS/AXOH1ppzHghQAAKocnkw/5KZ5DrUKDKgZ/NxHXvu/1uEP+fwU+5rAMGCv8U1vjSQ\n",
       "XLiziYb1i/GzQkkosTfBHQ76/EC1D1Q0dGr0lCzIPddBNv2ec6r2V1QBpPdVTsTtOi1wIVFoLqnh\n",
       "OJ+9aB5A7ylYvgSdpIoukoeAZb+hn5U11SZvuXxpKXxGk7RNO18fVAbXzYqnctmn9haYfpD2ZmWO\n",
       "cwkJ2K65hn4oR5jjVuX8KgcwVXiCB7AXDYFyxxdjfea6WG6snwIBlCflf/puKeaJA2ULpSF/Dlcz\n",
       "tjDhrevW0/lucZYUL+5niYCxP48mBVA84GbY77f8KkIAAOAudwiL+pGQaYcWiayDioAAAA+4f/UG\n",
       "8tLc/B4S1UA+dCfuftQzhptYAx+ws2sDcPujzmRzI/OUNc0lYT9SrwohGuS77dEd6/dBE0IHHSAj\n",
       "8mvdEcbHzL7sQcTfky9GqKqCEPGvJbk1mWpFnHfmdar2BjVwzpLrBgAQbokFQHp490OA7JKCbPUG\n",
       "K78HuU3g5JAmeaZmG5hoFpOb0afeH/9vANPlAAx4clPT7jy3EMzNcwBvK49i2YnC2qeZtWW+Vt60\n",
       "jbrh5AGbrvDwAlxOXP/Ft5qrNvTcn1iNR6Y9PJ5qfMCBj1XVvA2wxCCP/qWqt3Q9Fqr1DH4WwqEU\n",
       "PhMwX2hlxgWMc3uB3dj8AtlLMZ9dkF4sucvaYoIWZzA2mnrR/izpWYWUydpZhWQ7KSjVcubW5T7B\n",
       "Db5tGeuj0WGn3xeBAhtPM3UYHDF+I9ktam9x6NR7e9KI3HhPw1XmMph7J7MO9QTqgxzG36hk3GWk\n",
       "/hR7bhwjqdp7qC0lpRPFf78EyTFTeoxgS8ebWQ/MuKTUMvTi7LKA84MTgU4ip/i6A3g+VPnm2BP0\n",
       "15fy16U6Q7igYEv98wsyjLNILwf+3WIlIAAAB5tPQtyWy+lAFmXAA8nsnHU9MSq3esjosS+lnl42\n",
       "e3ZlH/O3A5/k2L3sMGIjwgbSjfBRWvcOjaEZ8jFRIAjrlqaz+eV6lZIPoPZVMsMGv2lwwjIKDnZu\n",
       "dA/LVTAwvrmBrXSyIu/+RLZEZUxVKIudhbKt8+sSqGom30wbG7AyrkQ9vrO+/sjVULhBFZhWTgQd\n",
       "wfnRK5XEtc/fZmMhPZi4fk66l5IMJPgsLVwoYvw4j1Tq8ha0opo2Hd0iRxifrA5HcMlOg5BQ+QAq\n",
       "RMPLi5bD+xTZnnIMpI36/1izaVapf39Hxh9k8wv3kMCJt1GXQPqtykSjKRZ8SImjWmuQAKaId9YN\n",
       "CMiOgnsXs8sSc7tO6VSpFpKGKvmgCDxHINSobwqgEXPLTWXyfHTxt8q0tW02dPNQA4tCWc3O7DWf\n",
       "hmE3MhwEs2xFSr0oCmDJlC3Q7ju2YYla38Hq5ADn6f0vhO/TiTg+nxJwWdc3cBGmcwYOuUtvazxB\n",
       "L+p8j7ikNSSO3Ss9adPngpaUMiTfvkup5yDfz7XlWrpKsCUdFJcZtQiqAvD7Z+bQwA9vu3+9v0D3\n",
       "N5HlNpRK7rlO8f1ec0tIdmp2rpivTYK5eenYSI/8pymkY0mAq4POpA1O/ug/tUlwmT+gCBaw0OxQ\n",
       "PtL581t3lsITy8oj6ClAA8wQ/0MrLkW8w4AAAAMAAAMAgYEAAACDQZokbEO//qmWAAAKCH0QAv90\n",
       "AvrOlXeG6t8Y2lf7HzicDu7P+9hpN58Lb7OreX7GQnLPKLqNBXig1CXpIYhIrfYKPkGO7k0i5wfH\n",
       "x6cntxNdUOS3GCj3CCqWnXCOUrcPA2gFRw5f1TgX5PYBiPQdtgEhsrNvOsE3ZrEwBWFIK5wADWgA\n",
       "AAAvQZ5CeIZ/AAAIrFiYDo4T1VYhMsTuhHd0ornRpJK2eN6H55Z91GHD+EuHhAU0wQcAAAAlAZ5h\n",
       "dEK/AAAP3wBS9J5Hw3aZYNxxqBrC4xSHqPfUCl4AUACRgAAAABoBnmNqQr8AAAMAAAMDOOhl80rp\n",
       "I87c72QBlQAAACJBmmhJqEFomUwIZ//+nhAAAAMAAA8qA31d6jt4/lTTgB1xAAAAIEGehkURLDP/\n",
       "AAADAAHQYJW4K7FzvtrGHQUYPAZIXUPBAAAAGgGepXRCvwAAAwAAAwM3+668/31mHn6RIAqpAAAA\n",
       "EwGep2pCvwAAAwAAAwD+MoiQAl4AAAAcQZqpSahBbJlMCFf//jhAAAADAD5epFtEAAAQ8AAAA6Zt\n",
       "b292AAAAbG12aGQAAAAAAAAAAAAAAAAAAAPoAAAB9AABAAABAAAAAAAAAAAAAAAAAQAAAAAAAAAA\n",
       "AAAAAAAAAAEAAAAAAAAAAAAAAAAAAEAAAAAAAAAAAAAAAAAAAAAAAAAAAAAAAAAAAAAAAAACAAAC\n",
       "0HRyYWsAAABcdGtoZAAAAAMAAAAAAAAAAAAAAAEAAAAAAAAB9AAAAAAAAAAAAAAAAAAAAAAAAQAA\n",
       "AAAAAAAAAAAAAAAAAAEAAAAAAAAAAAAAAAAAAEAAAAADYAAAAbAAAAAAACRlZHRzAAAAHGVsc3QA\n",
       "AAAAAAAAAQAAAfQAAAQAAAEAAAAAAkhtZGlhAAAAIG1kaGQAAAAAAAAAAAAAAAAAACgAAAAUAFXE\n",
       "AAAAAAAtaGRscgAAAAAAAAAAdmlkZQAAAAAAAAAAAAAAAFZpZGVvSGFuZGxlcgAAAAHzbWluZgAA\n",
       "ABR2bWhkAAAAAQAAAAAAAAAAAAAAJGRpbmYAAAAcZHJlZgAAAAAAAAABAAAADHVybCAAAAABAAAB\n",
       "s3N0YmwAAACzc3RzZAAAAAAAAAABAAAAo2F2YzEAAAAAAAAAAQAAAAAAAAAAAAAAAAAAAAADYAGw\n",
       "AEgAAABIAAAAAAAAAAEAAAAAAAAAAAAAAAAAAAAAAAAAAAAAAAAAAAAAAAAAAAAY//8AAAAxYXZj\n",
       "QwFkAB7/4QAYZ2QAHqzZQNg3oQAAAwABAAADACgPFi2WAQAGaOvjyyLAAAAAHHV1aWRraEDyXyRP\n",
       "xbo5pRvPAyPzAAAAAAAAABhzdHRzAAAAAAAAAAEAAAAKAAACAAAAABRzdHNzAAAAAAAAAAEAAAAB\n",
       "AAAAYGN0dHMAAAAAAAAACgAAAAEAAAQAAAAAAQAACgAAAAABAAAEAAAAAAEAAAAAAAAAAQAAAgAA\n",
       "AAABAAAKAAAAAAEAAAQAAAAAAQAAAAAAAAABAAACAAAAAAEAAAQAAAAAHHN0c2MAAAAAAAAAAQAA\n",
       "AAEAAAAKAAAAAQAAADxzdHN6AAAAAAAAAAAAAAAKAAAJUQAAAIcAAAAzAAAAKQAAAB4AAAAmAAAA\n",
       "JAAAAB4AAAAXAAAAIAAAABRzdGNvAAAAAAAAAAEAAAAsAAAAYnVkdGEAAABabWV0YQAAAAAAAAAh\n",
       "aGRscgAAAAAAAAAAbWRpcmFwcGwAAAAAAAAAAAAAAAAtaWxzdAAAACWpdG9vAAAAHWRhdGEAAAAB\n",
       "AAAAAExhdmY1Ny44My4xMDA=\n",
       "\">\n",
       "  Your browser does not support the video tag.\n",
       "</video>"
      ],
      "text/plain": [
       "<IPython.core.display.HTML object>"
      ]
     },
     "execution_count": 72,
     "metadata": {},
     "output_type": "execute_result"
    }
   ],
   "source": [
    "HTML(anim.to_html5_video())"
   ]
  },
  {
   "cell_type": "markdown",
   "metadata": {},
   "source": [
    "Create some random $256 \\times 256$ grids and see what behaviour results."
   ]
  },
  {
   "cell_type": "code",
   "execution_count": null,
   "metadata": {
    "collapsed": true
   },
   "outputs": [],
   "source": [
    "def life_animation(grid, frames = 10):\n",
    "    fig = plt.figure()\n",
    "    im = plt.imshow(grid[1:-1,1:-1],)"
   ]
  },
  {
   "cell_type": "markdown",
   "metadata": {},
   "source": [
    "## Cellular Automata"
   ]
  },
  {
   "cell_type": "markdown",
   "metadata": {},
   "source": [
    "The Game of Life is an example of *cellular automata*: a \"grid\" containing cells representing some model is updated in discrete timesteps according to some rules, usually involving neighbouring cells. Each cell can be thought of as an independent player of the game - an agent - that interacts through its neighbours in order to evolve.\n",
    "\n",
    "As an example of a cellular automata model, consider traffic flow. A road is modelled as a grid with one spatial dimension containing $N$ cells. The cell either contains a car (has value $1$) or doesn't (has value $0$). If the space in front of the car is empty it moves forwards; if not, it stays where it is. Periodic boundary conditions are used. We phrase this in terms of \"road locations\" $R_i^n$, so that $R_i^{n+1} = 0$ except for:\n",
    "\n",
    "\\begin{align}\n",
    "  R_i^{n+1} & = 1 & \\text{if $R_i^n=1$ and $R_{i+1}^n=1$ (car does not move), or} \\\\\n",
    "  R_i^{n+1} & = 1 & \\text{if $R_{i-1}^n=1$ and $R_i^n=0$ (car moves forwards)}.\n",
    "\\end{align}\n",
    "\n",
    "A useful diagnostic quantity for this model is the *average velocity*; the number of cars that moved in one step divided by the total number of cars on the road."
   ]
  },
  {
   "cell_type": "markdown",
   "metadata": {},
   "source": [
    "### Initial data and density\n",
    "\n",
    "For initial data, we choose the *density* of cars on the road to be between $0$ and $1$. Then, for each grid cell, compute uniform random numbers for each cell and initialize the cell according to the density:"
   ]
  },
  {
   "cell_type": "markdown",
   "metadata": {},
   "source": [
    "### Evolution\n",
    "\n",
    "Construct \"roads\" as above and evolve according to the update rule. See how the average velocity behaves. Test the limiting cases. Plot the behaviour of the average velocity against the density: can you understand why it behaves this way? If needed, plot the late time locations of the \"cars\"."
   ]
  },
  {
   "cell_type": "code",
   "execution_count": 10,
   "metadata": {},
   "outputs": [],
   "source": [
    "import numpy as np\n",
    "import matplotlib.pyplot as plt\n",
    "\n",
    "def cars(N = 1000, density = 0.75):\n",
    "    r = np.array(np.random.rand(N) < density, dtype = int)\n",
    "    return(r)"
   ]
  },
  {
   "cell_type": "code",
   "execution_count": 74,
   "metadata": {},
   "outputs": [
    {
     "name": "stdout",
     "output_type": "stream",
     "text": [
      "[1 1 1 1 0 0 1 1 1 1]\n",
      "0.125\n"
     ]
    },
    {
     "data": {
      "text/plain": [
       "array([1, 1, 1, 0, 1, 0, 1, 1, 1, 1])"
      ]
     },
     "execution_count": 74,
     "metadata": {},
     "output_type": "execute_result"
    }
   ],
   "source": [
    "import numpy as np\n",
    "import matplotlib.pyplot as plt\n",
    "\n",
    "def evolve_traffic(N_cells = 10, density = 0.75):\n",
    "    r = cars(N_cells, density)\n",
    "    N_cars = np.sum(r)\n",
    "    car_remains = np.zeros(N_cells, dtype = int)\n",
    "    car_moves = np.zeros(N_cells, dtype = int)\n",
    "    \n",
    "    for i in range(len(car_remains)-1):\n",
    "        car_remains[i] = r[i] * r[i+1]\n",
    "    car_remains[N_cells-1] = r[N_cells-1] * r[0]\n",
    "    \n",
    "    for j in range(len(car_moves)):\n",
    "        car_moves[j] = (r[j] - r[j-1]) * (r[j] - 1)\n",
    "    \n",
    "    r_new = car_moves + car_remains\n",
    "    speed = np.sum(car_moves) / N_cars\n",
    "    print(r)\n",
    "    print(speed)\n",
    "    return(r_new)\n",
    "\n",
    "evolve_traffic()"
   ]
  },
  {
   "cell_type": "markdown",
   "metadata": {},
   "source": [
    "### Making it more complex\n",
    "\n",
    "Consider adding another lane to the road. The grid becomes a $N \\times 2$ array. The \"fast\" lane can take one additional step every $k$ steps (eg, if the fast lane is going $10$% faster, then every tenth step the fast lane takes two timesteps instead of one).\n",
    "\n",
    "We now need to add rules to change lane. Denote cells in the fast lane by $F^n_i$, and in the slow lane by $S^n_i$. Consider a \"polite\" overtaking move: if $S^n_i=1$ and $S^n_{i+1}=1$ then the car at $S^n_i$ will overtake (move to $F^{n+1}_{i+1}$) *only* if there are no cars in its way ($F^n_{i} = 0 = F^n_{i+1}$) *and* if it will not block a car in the fast lane ($F^n_{i-1}=0$). It will also move back into the slow lane in the same circumstances: if a car in the fast lane at $F^n_{i}=1$ is not blocked by, or blocking, any slow lane cars, ie $0 = S^n_i = S^n_{i+1} = S^n_{i-1}$.\n",
    "\n",
    "Initialize the slow lane only with a certain density of cars. Investigate how the what the average *density* of cars in the fast and slow lane looks like, depending on the initial density."
   ]
  },
  {
   "cell_type": "code",
   "execution_count": null,
   "metadata": {
    "collapsed": true
   },
   "outputs": [],
   "source": []
  }
 ],
 "metadata": {
  "kernelspec": {
   "display_name": "Python 3",
   "language": "python",
   "name": "python3"
  },
  "language_info": {
   "codemirror_mode": {
    "name": "ipython",
    "version": 3
   },
   "file_extension": ".py",
   "mimetype": "text/x-python",
   "name": "python",
   "nbconvert_exporter": "python",
   "pygments_lexer": "ipython3",
   "version": "3.6.1"
  }
 },
 "nbformat": 4,
 "nbformat_minor": 1
}
